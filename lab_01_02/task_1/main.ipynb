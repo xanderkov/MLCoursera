{
 "cells": [
  {
   "cell_type": "markdown",
   "metadata": {},
   "source": [
    "# Задание 1"
   ]
  },
  {
   "cell_type": "code",
   "execution_count": 77,
   "metadata": {},
   "outputs": [],
   "source": [
    "import scipy as sc\n",
    "import numpy as np\n",
    "import pandas as pd"
   ]
  },
  {
   "cell_type": "code",
   "execution_count": 78,
   "metadata": {},
   "outputs": [],
   "source": [
    "with open('sentences.txt') as f:\n",
    "    lines = f.readlines()"
   ]
  },
  {
   "cell_type": "code",
   "execution_count": 79,
   "metadata": {},
   "outputs": [
    {
     "name": "stdout",
     "output_type": "stream",
     "text": [
      "in comparison to dogs, cats have not undergone major changes during the domestication process.\n",
      "\n",
      "as cat simply catenates streams of bytes, it can be also used to concatenate binary files, where it will just concatenate sequence of bytes.\n",
      "\n",
      "a common interactive use of cat for a single file is to output the content of a file to standard output.\n",
      "\n",
      "cats can hear sounds too faint or too high in frequency for human ears, such as those made by mice and other small animals.\n",
      "\n",
      "in one, people deliberately tamed cats in a process of artificial selection, as they were useful predators of vermin.\n",
      "\n",
      "the domesticated cat and its closest wild ancestor are both diploid organisms that possess 38 chromosomes and roughly 20,000 genes.\n",
      "\n",
      "domestic cats are similar in size to the other members of the genus felis, typically weighing between 4 and 5 kg (8.8 and 11.0 lb).\n",
      "\n",
      "however, if the output is piped or redirected, cat is unnecessary.\n",
      "\n",
      "cat with one named file is safer where human error is a concern - one wrong use of the default redirection symbol \">\" instead of \"<\" (often adjacent on keyboards) may permanently delete the file you were just needing to read.\n",
      "\n",
      "in terms of legibility, a sequence of commands starting with cat and connected by pipes has a clear left-to-right flow of information.\n",
      "\n",
      "cat command is one of the basic commands that you learned when you started in the unix / linux world.\n",
      "\n",
      "using cat command, the lines received from stdin can be redirected to a new file using redirection symbols.\n",
      "\n",
      "when you type simply cat command without any arguments, it just receives the stdin content and displays it in the stdout.\n",
      "\n",
      "leopard was released on october 26, 2007 as the successor of tiger (version 10.4), and is available in two editions.\n",
      "\n",
      "according to apple, leopard contains over 300 changes and enhancements over its predecessor, mac os x tiger.\n",
      "\n",
      "as of mid 2010, some apple computers have firmware factory installed which will no longer allow installation of mac os x leopard.\n",
      "\n",
      "since apple moved to using intel processors in their computers, the osx86 community has developed and now also allows mac os x tiger and later releases to be installed on non-apple x86-based computers.\n",
      "\n",
      "os x mountain lion was released on july 25, 2012 for purchase and download through apple's mac app store, as part of a switch to releasing os x versions online and every year.\n",
      "\n",
      "apple has released a small patch for the three most recent versions of safari running on os x yosemite, mavericks, and mountain lion.\n",
      "\n",
      "the mountain lion release marks the second time apple has offered an incremental upgrade, rather than releasing a new cat entirely.\n",
      "\n",
      "mac os x mountain lion installs in place, so you won't need to create a separate disk or run the installation off an external drive.\n",
      "\n",
      "the fifth major update to mac os x, leopard, contains such a mountain of features - more than 300 by apple's count.\n",
      "\n"
     ]
    }
   ],
   "source": [
    "for i in range(len(lines)):\n",
    "    lines[i] = lines[i].lower()\n",
    "    print(lines[i])"
   ]
  },
  {
   "cell_type": "markdown",
   "metadata": {},
   "source": [
    "## Токенезация"
   ]
  },
  {
   "cell_type": "code",
   "execution_count": 80,
   "metadata": {},
   "outputs": [],
   "source": [
    "import re\n",
    "def tokenize(text):\n",
    "    tokens = []\n",
    "    for i in range(len(text)):\n",
    "        text[i] = re.sub(r'[^a-zA-Z ^]', '', str(text[i]))\n",
    "        tokens.append(text[i].split())\n",
    "    return tokens"
   ]
  },
  {
   "cell_type": "code",
   "execution_count": 81,
   "metadata": {},
   "outputs": [
    {
     "data": {
      "text/plain": [
       "['as',\n",
       " 'cat',\n",
       " 'simply',\n",
       " 'catenates',\n",
       " 'streams',\n",
       " 'of',\n",
       " 'bytes',\n",
       " 'it',\n",
       " 'can',\n",
       " 'be',\n",
       " 'also',\n",
       " 'used',\n",
       " 'to',\n",
       " 'concatenate',\n",
       " 'binary',\n",
       " 'files',\n",
       " 'where',\n",
       " 'it',\n",
       " 'will',\n",
       " 'just',\n",
       " 'concatenate',\n",
       " 'sequence',\n",
       " 'of',\n",
       " 'bytes']"
      ]
     },
     "execution_count": 81,
     "metadata": {},
     "output_type": "execute_result"
    }
   ],
   "source": [
    "tokens = tokenize(lines)\n",
    "tokens[1]"
   ]
  },
  {
   "cell_type": "markdown",
   "metadata": {},
   "source": [
    "## Словарь уникальных слов в предложениях"
   ]
  },
  {
   "cell_type": "code",
   "execution_count": 88,
   "metadata": {},
   "outputs": [
    {
     "data": {
      "text/plain": [
       "{'in': 0,\n",
       " 'comparison': 0,\n",
       " 'to': 0,\n",
       " 'dogs': 0,\n",
       " 'cats': 0,\n",
       " 'have': 0,\n",
       " 'not': 0,\n",
       " 'undergone': 0,\n",
       " 'major': 0,\n",
       " 'changes': 0,\n",
       " 'during': 0,\n",
       " 'the': 0,\n",
       " 'domestication': 0,\n",
       " 'process': 0,\n",
       " 'as': 0,\n",
       " 'cat': 0,\n",
       " 'simply': 0,\n",
       " 'catenates': 0,\n",
       " 'streams': 0,\n",
       " 'of': 0,\n",
       " 'bytes': 0,\n",
       " 'it': 0,\n",
       " 'can': 0,\n",
       " 'be': 0,\n",
       " 'also': 0,\n",
       " 'used': 0,\n",
       " 'concatenate': 0,\n",
       " 'binary': 0,\n",
       " 'files': 0,\n",
       " 'where': 0,\n",
       " 'will': 0,\n",
       " 'just': 0,\n",
       " 'sequence': 0,\n",
       " 'a': 0,\n",
       " 'common': 0,\n",
       " 'interactive': 0,\n",
       " 'use': 0,\n",
       " 'for': 0,\n",
       " 'single': 0,\n",
       " 'file': 0,\n",
       " 'is': 0,\n",
       " 'output': 0,\n",
       " 'content': 0,\n",
       " 'standard': 0,\n",
       " 'hear': 0,\n",
       " 'sounds': 0,\n",
       " 'too': 0,\n",
       " 'faint': 0,\n",
       " 'or': 0,\n",
       " 'high': 0,\n",
       " 'frequency': 0,\n",
       " 'human': 0,\n",
       " 'ears': 0,\n",
       " 'such': 0,\n",
       " 'those': 0,\n",
       " 'made': 0,\n",
       " 'by': 0,\n",
       " 'mice': 0,\n",
       " 'and': 0,\n",
       " 'other': 0,\n",
       " 'small': 0,\n",
       " 'animals': 0,\n",
       " 'one': 0,\n",
       " 'people': 0,\n",
       " 'deliberately': 0,\n",
       " 'tamed': 0,\n",
       " 'artificial': 0,\n",
       " 'selection': 0,\n",
       " 'they': 0,\n",
       " 'were': 0,\n",
       " 'useful': 0,\n",
       " 'predators': 0,\n",
       " 'vermin': 0,\n",
       " 'domesticated': 0,\n",
       " 'its': 0,\n",
       " 'closest': 0,\n",
       " 'wild': 0,\n",
       " 'ancestor': 0,\n",
       " 'are': 0,\n",
       " 'both': 0,\n",
       " 'diploid': 0,\n",
       " 'organisms': 0,\n",
       " 'that': 0,\n",
       " 'possess': 0,\n",
       " 'chromosomes': 0,\n",
       " 'roughly': 0,\n",
       " 'genes': 0,\n",
       " 'domestic': 0,\n",
       " 'similar': 0,\n",
       " 'size': 0,\n",
       " 'members': 0,\n",
       " 'genus': 0,\n",
       " 'felis': 0,\n",
       " 'typically': 0,\n",
       " 'weighing': 0,\n",
       " 'between': 0,\n",
       " 'kg': 0,\n",
       " 'lb': 0,\n",
       " 'however': 0,\n",
       " 'if': 0,\n",
       " 'piped': 0,\n",
       " 'redirected': 0,\n",
       " 'unnecessary': 0,\n",
       " 'with': 0,\n",
       " 'named': 0,\n",
       " 'safer': 0,\n",
       " 'error': 0,\n",
       " 'concern': 0,\n",
       " 'wrong': 0,\n",
       " 'default': 0,\n",
       " 'redirection': 0,\n",
       " 'symbol': 0,\n",
       " 'instead': 0,\n",
       " 'often': 0,\n",
       " 'adjacent': 0,\n",
       " 'on': 0,\n",
       " 'keyboards': 0,\n",
       " 'may': 0,\n",
       " 'permanently': 0,\n",
       " 'delete': 0,\n",
       " 'you': 0,\n",
       " 'needing': 0,\n",
       " 'read': 0,\n",
       " 'terms': 0,\n",
       " 'legibility': 0,\n",
       " 'commands': 0,\n",
       " 'starting': 0,\n",
       " 'connected': 0,\n",
       " 'pipes': 0,\n",
       " 'has': 0,\n",
       " 'clear': 0,\n",
       " 'lefttoright': 0,\n",
       " 'flow': 0,\n",
       " 'information': 0,\n",
       " 'command': 0,\n",
       " 'basic': 0,\n",
       " 'learned': 0,\n",
       " 'when': 0,\n",
       " 'started': 0,\n",
       " 'unix': 0,\n",
       " 'linux': 0,\n",
       " 'world': 0,\n",
       " 'using': 0,\n",
       " 'lines': 0,\n",
       " 'received': 0,\n",
       " 'from': 0,\n",
       " 'stdin': 0,\n",
       " 'new': 0,\n",
       " 'symbols': 0,\n",
       " 'type': 0,\n",
       " 'without': 0,\n",
       " 'any': 0,\n",
       " 'arguments': 0,\n",
       " 'receives': 0,\n",
       " 'displays': 0,\n",
       " 'stdout': 0,\n",
       " 'leopard': 0,\n",
       " 'was': 0,\n",
       " 'released': 0,\n",
       " 'october': 0,\n",
       " 'successor': 0,\n",
       " 'tiger': 0,\n",
       " 'version': 0,\n",
       " 'available': 0,\n",
       " 'two': 0,\n",
       " 'editions': 0,\n",
       " 'according': 0,\n",
       " 'apple': 0,\n",
       " 'contains': 0,\n",
       " 'over': 0,\n",
       " 'enhancements': 0,\n",
       " 'predecessor': 0,\n",
       " 'mac': 0,\n",
       " 'os': 0,\n",
       " 'x': 0,\n",
       " 'mid': 0,\n",
       " 'some': 0,\n",
       " 'computers': 0,\n",
       " 'firmware': 0,\n",
       " 'factory': 0,\n",
       " 'installed': 0,\n",
       " 'which': 0,\n",
       " 'no': 0,\n",
       " 'longer': 0,\n",
       " 'allow': 0,\n",
       " 'installation': 0,\n",
       " 'since': 0,\n",
       " 'moved': 0,\n",
       " 'intel': 0,\n",
       " 'processors': 0,\n",
       " 'their': 0,\n",
       " 'osx': 0,\n",
       " 'community': 0,\n",
       " 'developed': 0,\n",
       " 'now': 0,\n",
       " 'allows': 0,\n",
       " 'later': 0,\n",
       " 'releases': 0,\n",
       " 'nonapple': 0,\n",
       " 'xbased': 0,\n",
       " 'mountain': 0,\n",
       " 'lion': 0,\n",
       " 'july': 0,\n",
       " 'purchase': 0,\n",
       " 'download': 0,\n",
       " 'through': 0,\n",
       " 'apples': 0,\n",
       " 'app': 0,\n",
       " 'store': 0,\n",
       " 'part': 0,\n",
       " 'switch': 0,\n",
       " 'releasing': 0,\n",
       " 'versions': 0,\n",
       " 'online': 0,\n",
       " 'every': 0,\n",
       " 'year': 0,\n",
       " 'patch': 0,\n",
       " 'three': 0,\n",
       " 'most': 0,\n",
       " 'recent': 0,\n",
       " 'safari': 0,\n",
       " 'running': 0,\n",
       " 'yosemite': 0,\n",
       " 'mavericks': 0,\n",
       " 'release': 0,\n",
       " 'marks': 0,\n",
       " 'second': 0,\n",
       " 'time': 0,\n",
       " 'offered': 0,\n",
       " 'an': 0,\n",
       " 'incremental': 0,\n",
       " 'upgrade': 0,\n",
       " 'rather': 0,\n",
       " 'than': 0,\n",
       " 'entirely': 0,\n",
       " 'installs': 0,\n",
       " 'place': 0,\n",
       " 'so': 0,\n",
       " 'wont': 0,\n",
       " 'need': 0,\n",
       " 'create': 0,\n",
       " 'separate': 0,\n",
       " 'disk': 0,\n",
       " 'run': 0,\n",
       " 'off': 0,\n",
       " 'external': 0,\n",
       " 'drive': 0,\n",
       " 'fifth': 0,\n",
       " 'update': 0,\n",
       " 'features': 0,\n",
       " 'more': 0,\n",
       " 'count': 0}"
      ]
     },
     "execution_count": 88,
     "metadata": {},
     "output_type": "execute_result"
    }
   ],
   "source": [
    "dict = []\n",
    "dict_line = {}\n",
    "for i in range(len(tokens)):\n",
    "    for j in tokens[i]:\n",
    "        dict_line[j] = 0\n",
    "dict_line"
   ]
  },
  {
   "cell_type": "code",
   "execution_count": 89,
   "metadata": {},
   "outputs": [],
   "source": [
    "for i in range(len(tokens)):\n",
    "    u = set(tokens[i])\n",
    "    dict_copy = dict_line.copy()\n",
    "    for j in u:\n",
    "        dict_copy[j] = tokens[i].count(j)\n",
    "    dict.append(dict_copy)"
   ]
  },
  {
   "cell_type": "markdown",
   "metadata": {},
   "source": [
    "## Матрица уникальных слов в предложениях"
   ]
  },
  {
   "cell_type": "code",
   "execution_count": 101,
   "metadata": {},
   "outputs": [
    {
     "data": {
      "text/plain": [
       "array([[1., 1., 1., ..., 0., 0., 0.],\n",
       "       [0., 0., 1., ..., 0., 0., 0.],\n",
       "       [0., 0., 2., ..., 0., 0., 0.],\n",
       "       ...,\n",
       "       [0., 0., 0., ..., 0., 0., 0.],\n",
       "       [1., 0., 1., ..., 0., 0., 0.],\n",
       "       [0., 0., 1., ..., 1., 0., 0.]])"
      ]
     },
     "execution_count": 101,
     "metadata": {},
     "output_type": "execute_result"
    }
   ],
   "source": [
    "matrix = np.zeros((22, 254))\n",
    "for i in range(len(tokens)):\n",
    "    arr = []\n",
    "    k = 0\n",
    "    for j in dict[i]:\n",
    "        matrix[i][k] = dict[i][j]\n",
    "        k += 1\n",
    "matrix"
   ]
  },
  {
   "cell_type": "code",
   "execution_count": 112,
   "metadata": {},
   "outputs": [
    {
     "name": "stdout",
     "output_type": "stream",
     "text": [
      "6 4\n"
     ]
    }
   ],
   "source": [
    "from scipy import spatial\n",
    "near_1 = 0\n",
    "index_1 = 0\n",
    "index_2 = 0\n",
    "near_2 = 0\n",
    "for i in range(1, len(matrix)):\n",
    "    dist = sc.spatial.distance.cosine(matrix[0], matrix[i])\n",
    "    if (dist < near_1 or near_1 == 0):\n",
    "        near_2 = near_1\n",
    "        index_2 = index_1\n",
    "        near_1 = dist\n",
    "        index_1 = i\n",
    "print(index_1, index_2)"
   ]
  },
  {
   "cell_type": "code",
   "execution_count": 113,
   "metadata": {},
   "outputs": [
    {
     "data": {
      "text/plain": [
       "3"
      ]
     },
     "execution_count": 113,
     "metadata": {},
     "output_type": "execute_result"
    }
   ],
   "source": [
    "file = open(\"ans.txt\", \"w\")\n",
    "file.write(str(index_1) + ' ' + str(index_2))"
   ]
  },
  {
   "cell_type": "code",
   "execution_count": null,
   "metadata": {},
   "outputs": [],
   "source": []
  }
 ],
 "metadata": {
  "interpreter": {
   "hash": "916dbcbb3f70747c44a77c7bcd40155683ae19c65e1c03b4aa3499c5328201f1"
  },
  "kernelspec": {
   "display_name": "Python 3.8.10 64-bit",
   "language": "python",
   "name": "python3"
  },
  "language_info": {
   "codemirror_mode": {
    "name": "ipython",
    "version": 3
   },
   "file_extension": ".py",
   "mimetype": "text/x-python",
   "name": "python",
   "nbconvert_exporter": "python",
   "pygments_lexer": "ipython3",
   "version": "3.8.8"
  },
  "orig_nbformat": 4
 },
 "nbformat": 4,
 "nbformat_minor": 2
}
